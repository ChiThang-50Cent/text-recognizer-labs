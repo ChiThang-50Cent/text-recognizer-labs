{
  "nbformat": 4,
  "nbformat_minor": 0,
  "metadata": {
    "colab": {
      "provenance": []
    },
    "kernelspec": {
      "name": "python3",
      "display_name": "Python 3"
    },
    "language_info": {
      "name": "python"
    }
  },
  "cells": [
    {
      "cell_type": "code",
      "source": [
        "import numpy as np"
      ],
      "metadata": {
        "id": "Ru_7CQ8_hMt9"
      },
      "execution_count": 1,
      "outputs": []
    },
    {
      "cell_type": "code",
      "source": [
        "import os\n",
        "\n",
        "if 'utils.py' not in os.listdir():\n",
        "  !wget https://raw.githubusercontent.com/ChiThang-50Cent/text-recognizer-labs/main/base/utils.py"
      ],
      "metadata": {
        "colab": {
          "base_uri": "https://localhost:8080/"
        },
        "id": "lymbtNszNrWQ",
        "outputId": "8b84cf81-d5f0-4367-eadc-78e734f542a9"
      },
      "execution_count": 2,
      "outputs": [
        {
          "output_type": "stream",
          "name": "stdout",
          "text": [
            "--2023-10-19 17:51:59--  https://raw.githubusercontent.com/ChiThang-50Cent/text-recognizer-labs/main/base/utils.py\n",
            "Resolving raw.githubusercontent.com (raw.githubusercontent.com)... 185.199.108.133, 185.199.109.133, 185.199.110.133, ...\n",
            "Connecting to raw.githubusercontent.com (raw.githubusercontent.com)|185.199.108.133|:443... connected.\n",
            "HTTP request sent, awaiting response... 200 OK\n",
            "Length: 2421 (2.4K) [text/plain]\n",
            "Saving to: ‘utils.py’\n",
            "\n",
            "\rutils.py              0%[                    ]       0  --.-KB/s               \rutils.py            100%[===================>]   2.36K  --.-KB/s    in 0s      \n",
            "\n",
            "2023-10-19 17:51:59 (30.0 MB/s) - ‘utils.py’ saved [2421/2421]\n",
            "\n"
          ]
        }
      ]
    },
    {
      "cell_type": "code",
      "source": [
        "import torch\n",
        "import torchvision\n",
        "import utils as f\n",
        "import torch.nn as nn\n",
        "import torch.optim as optim\n",
        "\n",
        "from torch.utils.data import DataLoader"
      ],
      "metadata": {
        "id": "Cy7Ekk07N1o4"
      },
      "execution_count": 3,
      "outputs": []
    },
    {
      "cell_type": "code",
      "source": [
        "a = torch.tensor([1, 2, 3])\n",
        "b = torch.tensor([3, 4, 5])\n",
        "\n",
        "a+b"
      ],
      "metadata": {
        "colab": {
          "base_uri": "https://localhost:8080/"
        },
        "id": "dKlRkkDwEKUn",
        "outputId": "d476bcc7-31e1-47c4-83b9-16b0738fe29c"
      },
      "execution_count": 4,
      "outputs": [
        {
          "output_type": "execute_result",
          "data": {
            "text/plain": [
              "tensor([4, 6, 8])"
            ]
          },
          "metadata": {},
          "execution_count": 4
        }
      ]
    },
    {
      "cell_type": "code",
      "source": [
        "train_set, valid_set, test_set = f.get_EMNIST_datasets()"
      ],
      "metadata": {
        "colab": {
          "base_uri": "https://localhost:8080/"
        },
        "id": "z14ArCwyOLws",
        "outputId": "cc6a1175-3aa9-4577-e701-925ae25a147f"
      },
      "execution_count": 4,
      "outputs": [
        {
          "output_type": "stream",
          "name": "stdout",
          "text": [
            "Downloading https://www.itl.nist.gov/iaui/vip/cs_links/EMNIST/gzip.zip to ./EMNIST/raw/gzip.zip\n"
          ]
        },
        {
          "output_type": "stream",
          "name": "stderr",
          "text": [
            "100%|██████████| 561753746/561753746 [00:10<00:00, 54783682.57it/s]\n"
          ]
        },
        {
          "output_type": "stream",
          "name": "stdout",
          "text": [
            "Extracting ./EMNIST/raw/gzip.zip to ./EMNIST/raw\n",
            "train_size: 101520, valid_size: 11280, test_size: 18800\n"
          ]
        }
      ]
    },
    {
      "cell_type": "code",
      "source": [
        "f.set_all_seed(42)\n",
        "\n",
        "device = f.get_device()\n",
        "print(device)"
      ],
      "metadata": {
        "colab": {
          "base_uri": "https://localhost:8080/"
        },
        "id": "msUAXbiGOa0f",
        "outputId": "a8eae9d8-715a-45f0-9f15-f0fb4bff975b"
      },
      "execution_count": 5,
      "outputs": [
        {
          "output_type": "stream",
          "name": "stdout",
          "text": [
            "cuda\n"
          ]
        }
      ]
    },
    {
      "cell_type": "code",
      "source": [
        "batch_size = 64\n",
        "\n",
        "train_loader = DataLoader(train_set, batch_size, shuffle=True)\n",
        "valid_loader = DataLoader(valid_set, batch_size, shuffle=False)\n",
        "test_loader = DataLoader(test_set, batch_size, shuffle=False)"
      ],
      "metadata": {
        "id": "Dr_QpxjPO0Gk"
      },
      "execution_count": 6,
      "outputs": []
    },
    {
      "cell_type": "code",
      "source": [
        "class ConvBlock(nn.Module):\n",
        "  def __init__(self, input_channel, output_channel):\n",
        "    super().__init__()\n",
        "    self.conv = nn.Conv2d(input_channel, output_channel, kernel_size=3, stride=1, padding=1)\n",
        "    self.relu = nn.ReLU()\n",
        "\n",
        "  def forward(self, x):\n",
        "    c = self.conv(x)\n",
        "    r = self.relu(c)\n",
        "\n",
        "    return r"
      ],
      "metadata": {
        "id": "bUvkIb-3PNuv"
      },
      "execution_count": 7,
      "outputs": []
    },
    {
      "cell_type": "code",
      "source": [
        "class CNN(nn.Module):\n",
        "  def __init__(self, img_size, input_dim, num_classes, conv_dim, fc_dim):\n",
        "    super().__init__()\n",
        "    self.conv1 = ConvBlock(input_dim, conv_dim)\n",
        "    self.conv2 = ConvBlock(conv_dim, conv_dim)\n",
        "    self.dropout = nn.Dropout(0.25)\n",
        "    self.maxpool = nn.MaxPool2d(2)\n",
        "\n",
        "    conv_out_size = img_size // 2\n",
        "    self.fc1 = nn.Linear(conv_out_size * conv_out_size * conv_dim, fc_dim)\n",
        "    self.fc2 = nn.Linear(fc_dim, num_classes)\n",
        "\n",
        "  def forward(self, x):\n",
        "\n",
        "    x = self.conv1(x)\n",
        "    x = self.conv2(x)\n",
        "    x = self.maxpool(x)\n",
        "    x = self.dropout(x)\n",
        "\n",
        "    x = torch.flatten(x, 1)\n",
        "    x = self.fc1(x)\n",
        "    x = nn.functional.relu(x)\n",
        "    x = self.fc2(x)\n",
        "\n",
        "    return x"
      ],
      "metadata": {
        "id": "BxgmPZBNTDK2"
      },
      "execution_count": 8,
      "outputs": []
    },
    {
      "cell_type": "code",
      "source": [
        "check = np.array([])\n",
        "for x, y in test_loader:\n",
        "  check = np.concatenate((check, y), axis=None)\n"
      ],
      "metadata": {
        "id": "xmZHu70ffW23"
      },
      "execution_count": 9,
      "outputs": []
    },
    {
      "cell_type": "code",
      "source": [
        "for x, y in test_loader:\n",
        "  print(x.shape)\n",
        "  break"
      ],
      "metadata": {
        "colab": {
          "base_uri": "https://localhost:8080/"
        },
        "id": "oaR1k0hSiqSG",
        "outputId": "fe98e9d2-e844-401b-cf74-9c6225b70907"
      },
      "execution_count": 10,
      "outputs": [
        {
          "output_type": "stream",
          "name": "stdout",
          "text": [
            "torch.Size([64, 1, 28, 28])\n"
          ]
        }
      ]
    },
    {
      "cell_type": "code",
      "source": [
        "len(set(check)), min(check), max(check)"
      ],
      "metadata": {
        "colab": {
          "base_uri": "https://localhost:8080/"
        },
        "id": "nfP8J9nTg4bz",
        "outputId": "14dae809-3b7d-4337-bc36-9a879d2e9f0a"
      },
      "execution_count": 11,
      "outputs": [
        {
          "output_type": "execute_result",
          "data": {
            "text/plain": [
              "(47, 0.0, 46.0)"
            ]
          },
          "metadata": {},
          "execution_count": 11
        }
      ]
    },
    {
      "cell_type": "code",
      "source": [
        "img_size = 28\n",
        "fc_dim = 128\n",
        "conv_dim = 64\n",
        "num_classes = 47\n",
        "input_dim = 1"
      ],
      "metadata": {
        "id": "MGKgsdPYXueG"
      },
      "execution_count": 12,
      "outputs": []
    },
    {
      "cell_type": "code",
      "source": [
        "CNN_model = CNN(img_size, input_dim, num_classes, conv_dim, fc_dim)\n",
        "CNN_model.cuda()"
      ],
      "metadata": {
        "colab": {
          "base_uri": "https://localhost:8080/"
        },
        "id": "m03P84SwilcT",
        "outputId": "c4f10f5a-c9ab-4b84-84e9-3bc4c43646b5"
      },
      "execution_count": 13,
      "outputs": [
        {
          "output_type": "execute_result",
          "data": {
            "text/plain": [
              "CNN(\n",
              "  (conv1): ConvBlock(\n",
              "    (conv): Conv2d(1, 64, kernel_size=(3, 3), stride=(1, 1), padding=(1, 1))\n",
              "    (relu): ReLU()\n",
              "  )\n",
              "  (conv2): ConvBlock(\n",
              "    (conv): Conv2d(64, 64, kernel_size=(3, 3), stride=(1, 1), padding=(1, 1))\n",
              "    (relu): ReLU()\n",
              "  )\n",
              "  (dropout): Dropout(p=0.25, inplace=False)\n",
              "  (maxpool): MaxPool2d(kernel_size=2, stride=2, padding=0, dilation=1, ceil_mode=False)\n",
              "  (fc1): Linear(in_features=12544, out_features=128, bias=True)\n",
              "  (fc2): Linear(in_features=128, out_features=47, bias=True)\n",
              ")"
            ]
          },
          "metadata": {},
          "execution_count": 13
        }
      ]
    },
    {
      "cell_type": "code",
      "source": [
        "loss_fn = nn.CrossEntropyLoss()\n",
        "optimizer = optim.Adam(CNN_model.parameters(), lr=5e-2)\n",
        "scheduler = optim.lr_scheduler.MultiStepLR(optimizer, milestones=[10, 20, 30], gamma=0.1)"
      ],
      "metadata": {
        "id": "a2uWTjVgldhm"
      },
      "execution_count": 14,
      "outputs": []
    },
    {
      "cell_type": "code",
      "source": [
        "f.training_loop(n_epochs=50,\n",
        "                model=CNN_model,\n",
        "                train_loader=train_loader,\n",
        "                val_loader=valid_loader,\n",
        "                loss_fn=loss_fn,\n",
        "                optimizer=optimizer,\n",
        "                scheduler=scheduler,\n",
        "                device=device)"
      ],
      "metadata": {
        "colab": {
          "base_uri": "https://localhost:8080/"
        },
        "id": "IEFBj3-Iksl4",
        "outputId": "72eedf6a-e5b0-4d7f-b137-54bdb45b3b1a"
      },
      "execution_count": 15,
      "outputs": [
        {
          "output_type": "stream",
          "name": "stdout",
          "text": [
            "Epoch 1 in 50 total. Train loss 4.27. Valid loss 3.86. Valid acc 0.02.\n",
            "Epoch 2 in 50 total. Train loss 3.86. Valid loss 3.86. Valid acc 0.02.\n",
            "Epoch 3 in 50 total. Train loss 3.85. Valid loss 3.84. Valid acc 0.03.\n",
            "Epoch 4 in 50 total. Train loss 3.76. Valid loss 3.61. Valid acc 0.05.\n",
            "Epoch 5 in 50 total. Train loss 3.09. Valid loss 2.21. Valid acc 0.43.\n",
            "Epoch 6 in 50 total. Train loss 1.91. Valid loss 1.47. Valid acc 0.59.\n",
            "Epoch 7 in 50 total. Train loss 1.50. Valid loss 1.22. Valid acc 0.65.\n",
            "Epoch 8 in 50 total. Train loss 1.31. Valid loss 1.09. Valid acc 0.69.\n",
            "Epoch 9 in 50 total. Train loss 1.18. Valid loss 0.99. Valid acc 0.71.\n",
            "Epoch 10 in 50 total. Train loss 1.09. Valid loss 0.92. Valid acc 0.73.\n",
            "Epoch 11 in 50 total. Train loss 1.02. Valid loss 0.86. Valid acc 0.74.\n",
            "Epoch 12 in 50 total. Train loss 0.96. Valid loss 0.81. Valid acc 0.76.\n",
            "Epoch 13 in 50 total. Train loss 0.91. Valid loss 0.77. Valid acc 0.77.\n",
            "Epoch 14 in 50 total. Train loss 0.87. Valid loss 0.74. Valid acc 0.78.\n",
            "Epoch 15 in 50 total. Train loss 0.83. Valid loss 0.71. Valid acc 0.78.\n",
            "Epoch 16 in 50 total. Train loss 0.80. Valid loss 0.69. Valid acc 0.79.\n",
            "Epoch 17 in 50 total. Train loss 0.77. Valid loss 0.67. Valid acc 0.79.\n",
            "Epoch 18 in 50 total. Train loss 0.75. Valid loss 0.65. Valid acc 0.80.\n",
            "Epoch 19 in 50 total. Train loss 0.73. Valid loss 0.63. Valid acc 0.80.\n",
            "Epoch 20 in 50 total. Train loss 0.71. Valid loss 0.62. Valid acc 0.81.\n",
            "Epoch 21 in 50 total. Train loss 0.69. Valid loss 0.61. Valid acc 0.81.\n",
            "Epoch 22 in 50 total. Train loss 0.67. Valid loss 0.59. Valid acc 0.82.\n",
            "Epoch 23 in 50 total. Train loss 0.66. Valid loss 0.58. Valid acc 0.82.\n",
            "Epoch 24 in 50 total. Train loss 0.64. Valid loss 0.57. Valid acc 0.82.\n",
            "Epoch 25 in 50 total. Train loss 0.63. Valid loss 0.56. Valid acc 0.82.\n",
            "Epoch 26 in 50 total. Train loss 0.62. Valid loss 0.55. Valid acc 0.83.\n",
            "Epoch 27 in 50 total. Train loss 0.61. Valid loss 0.55. Valid acc 0.83.\n",
            "Epoch 28 in 50 total. Train loss 0.60. Valid loss 0.54. Valid acc 0.83.\n",
            "Epoch 29 in 50 total. Train loss 0.59. Valid loss 0.53. Valid acc 0.83.\n",
            "Epoch 30 in 50 total. Train loss 0.58. Valid loss 0.53. Valid acc 0.83.\n",
            "Epoch 31 in 50 total. Train loss 0.57. Valid loss 0.52. Valid acc 0.84.\n",
            "Epoch 32 in 50 total. Train loss 0.57. Valid loss 0.52. Valid acc 0.84.\n",
            "Epoch 33 in 50 total. Train loss 0.56. Valid loss 0.51. Valid acc 0.84.\n",
            "Epoch 34 in 50 total. Train loss 0.55. Valid loss 0.50. Valid acc 0.84.\n",
            "Epoch 35 in 50 total. Train loss 0.54. Valid loss 0.50. Valid acc 0.84.\n",
            "Epoch 36 in 50 total. Train loss 0.54. Valid loss 0.50. Valid acc 0.84.\n",
            "Epoch 37 in 50 total. Train loss 0.53. Valid loss 0.49. Valid acc 0.84.\n",
            "Epoch 38 in 50 total. Train loss 0.53. Valid loss 0.49. Valid acc 0.84.\n",
            "Epoch 39 in 50 total. Train loss 0.52. Valid loss 0.49. Valid acc 0.84.\n",
            "Epoch 40 in 50 total. Train loss 0.51. Valid loss 0.48. Valid acc 0.85.\n",
            "Epoch 41 in 50 total. Train loss 0.51. Valid loss 0.48. Valid acc 0.85.\n",
            "Epoch 42 in 50 total. Train loss 0.50. Valid loss 0.48. Valid acc 0.85.\n",
            "Epoch 43 in 50 total. Train loss 0.50. Valid loss 0.47. Valid acc 0.85.\n",
            "Epoch 44 in 50 total. Train loss 0.50. Valid loss 0.47. Valid acc 0.85.\n",
            "Epoch 45 in 50 total. Train loss 0.49. Valid loss 0.47. Valid acc 0.85.\n",
            "Epoch 46 in 50 total. Train loss 0.49. Valid loss 0.46. Valid acc 0.85.\n",
            "Epoch 47 in 50 total. Train loss 0.48. Valid loss 0.46. Valid acc 0.85.\n",
            "Epoch 48 in 50 total. Train loss 0.48. Valid loss 0.46. Valid acc 0.85.\n",
            "Epoch 49 in 50 total. Train loss 0.47. Valid loss 0.46. Valid acc 0.85.\n",
            "Epoch 50 in 50 total. Train loss 0.47. Valid loss 0.46. Valid acc 0.85.\n"
          ]
        }
      ]
    },
    {
      "cell_type": "code",
      "source": [
        "CNN_model.eval()\n",
        "CNN_model.cpu()\n",
        "\n",
        "y_pred = []\n",
        "y_true = []\n",
        "\n",
        "with torch.no_grad():\n",
        "  for X, y in test_loader:\n",
        "\n",
        "    y_hat = CNN_model(X)\n",
        "\n",
        "    y_pred.append(y_hat.softmax(dim=1).argmax(dim=1).numpy())\n",
        "    y_true.append(y.numpy())\n",
        "\n",
        "y_pred = np.concatenate(y_pred, axis=None)\n",
        "y_true = np.concatenate(y_true, axis=None)"
      ],
      "metadata": {
        "id": "63POVAvjlykD"
      },
      "execution_count": 16,
      "outputs": []
    },
    {
      "cell_type": "code",
      "source": [
        "from sklearn.metrics import classification_report\n",
        "\n",
        "print(classification_report(y_true, y_pred))"
      ],
      "metadata": {
        "colab": {
          "base_uri": "https://localhost:8080/"
        },
        "id": "9jal3j8Mv0V0",
        "outputId": "bd9de2ba-d0e3-4557-fde3-381b56aac212"
      },
      "execution_count": 17,
      "outputs": [
        {
          "output_type": "stream",
          "name": "stdout",
          "text": [
            "              precision    recall  f1-score   support\n",
            "\n",
            "           0       0.68      0.66      0.67       400\n",
            "           1       0.52      0.73      0.61       400\n",
            "           2       0.91      0.81      0.86       400\n",
            "           3       0.95      0.96      0.96       400\n",
            "           4       0.87      0.89      0.88       400\n",
            "           5       0.92      0.86      0.89       400\n",
            "           6       0.88      0.91      0.89       400\n",
            "           7       0.92      0.95      0.94       400\n",
            "           8       0.89      0.91      0.90       400\n",
            "           9       0.64      0.82      0.72       400\n",
            "          10       0.91      0.93      0.92       400\n",
            "          11       0.91      0.93      0.92       400\n",
            "          12       0.92      0.91      0.91       400\n",
            "          13       0.88      0.92      0.90       400\n",
            "          14       0.96      0.96      0.96       400\n",
            "          15       0.64      0.60      0.62       400\n",
            "          16       0.91      0.91      0.91       400\n",
            "          17       0.90      0.93      0.91       400\n",
            "          18       0.66      0.64      0.65       400\n",
            "          19       0.92      0.88      0.90       400\n",
            "          20       0.94      0.92      0.93       400\n",
            "          21       0.67      0.42      0.52       400\n",
            "          22       0.90      0.94      0.92       400\n",
            "          23       0.92      0.92      0.92       400\n",
            "          24       0.68      0.68      0.68       400\n",
            "          25       0.91      0.95      0.93       400\n",
            "          26       0.85      0.92      0.89       400\n",
            "          27       0.91      0.92      0.92       400\n",
            "          28       0.85      0.90      0.87       400\n",
            "          29       0.91      0.91      0.91       400\n",
            "          30       0.91      0.88      0.89       400\n",
            "          31       0.89      0.90      0.89       400\n",
            "          32       0.95      0.98      0.96       400\n",
            "          33       0.96      0.91      0.93       400\n",
            "          34       0.90      0.81      0.85       400\n",
            "          35       0.86      0.90      0.88       400\n",
            "          36       0.82      0.87      0.84       400\n",
            "          37       0.90      0.90      0.90       400\n",
            "          38       0.94      0.94      0.94       400\n",
            "          39       0.91      0.93      0.92       400\n",
            "          40       0.63      0.64      0.63       400\n",
            "          41       0.73      0.52      0.61       400\n",
            "          42       0.90      0.92      0.91       400\n",
            "          43       0.93      0.87      0.90       400\n",
            "          44       0.57      0.48      0.52       400\n",
            "          45       0.90      0.92      0.91       400\n",
            "          46       0.85      0.89      0.87       400\n",
            "\n",
            "    accuracy                           0.85     18800\n",
            "   macro avg       0.85      0.85      0.85     18800\n",
            "weighted avg       0.85      0.85      0.85     18800\n",
            "\n"
          ]
        }
      ]
    }
  ]
}