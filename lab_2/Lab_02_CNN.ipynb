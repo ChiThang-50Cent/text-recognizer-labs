{
  "nbformat": 4,
  "nbformat_minor": 0,
  "metadata": {
    "colab": {
      "provenance": [],
      "gpuType": "T4"
    },
    "kernelspec": {
      "name": "python3",
      "display_name": "Python 3"
    },
    "language_info": {
      "name": "python"
    },
    "accelerator": "GPU"
  },
  "cells": [
    {
      "cell_type": "code",
      "source": [
        "import numpy as np"
      ],
      "metadata": {
        "id": "Ru_7CQ8_hMt9"
      },
      "execution_count": 1,
      "outputs": []
    },
    {
      "cell_type": "code",
      "source": [
        "import os\n",
        "\n",
        "if 'utils.py' not in os.listdir():\n",
        "  !wget https://raw.githubusercontent.com/ChiThang-50Cent/text-recognizer-labs/main/base/utils.py"
      ],
      "metadata": {
        "colab": {
          "base_uri": "https://localhost:8080/"
        },
        "id": "lymbtNszNrWQ",
        "outputId": "4acfd949-d82c-4b02-e450-77d53cc0efca"
      },
      "execution_count": 2,
      "outputs": [
        {
          "output_type": "stream",
          "name": "stdout",
          "text": [
            "--2023-10-20 14:48:00--  https://raw.githubusercontent.com/ChiThang-50Cent/text-recognizer-labs/main/base/utils.py\n",
            "Resolving raw.githubusercontent.com (raw.githubusercontent.com)... 185.199.110.133, 185.199.109.133, 185.199.111.133, ...\n",
            "Connecting to raw.githubusercontent.com (raw.githubusercontent.com)|185.199.110.133|:443... connected.\n",
            "HTTP request sent, awaiting response... 200 OK\n",
            "Length: 2454 (2.4K) [text/plain]\n",
            "Saving to: ‘utils.py’\n",
            "\n",
            "utils.py            100%[===================>]   2.40K  --.-KB/s    in 0s      \n",
            "\n",
            "2023-10-20 14:48:00 (48.2 MB/s) - ‘utils.py’ saved [2454/2454]\n",
            "\n"
          ]
        }
      ]
    },
    {
      "cell_type": "code",
      "source": [
        "import torch\n",
        "import torchvision\n",
        "import utils as f\n",
        "import torch.nn as nn\n",
        "import torch.optim as optim\n",
        "\n",
        "from torch.utils.data import DataLoader"
      ],
      "metadata": {
        "id": "Cy7Ekk07N1o4"
      },
      "execution_count": 3,
      "outputs": []
    },
    {
      "cell_type": "code",
      "source": [
        "train_set, valid_set, test_set = f.get_EMNIST_datasets()"
      ],
      "metadata": {
        "colab": {
          "base_uri": "https://localhost:8080/"
        },
        "id": "z14ArCwyOLws",
        "outputId": "569fdb0f-f1e1-4e10-bd26-4d366a426129"
      },
      "execution_count": 4,
      "outputs": [
        {
          "output_type": "stream",
          "name": "stdout",
          "text": [
            "Downloading https://www.itl.nist.gov/iaui/vip/cs_links/EMNIST/gzip.zip to ./EMNIST/raw/gzip.zip\n"
          ]
        },
        {
          "output_type": "stream",
          "name": "stderr",
          "text": [
            "100%|██████████| 561753746/561753746 [00:34<00:00, 16443212.57it/s]\n"
          ]
        },
        {
          "output_type": "stream",
          "name": "stdout",
          "text": [
            "Extracting ./EMNIST/raw/gzip.zip to ./EMNIST/raw\n",
            "train_size: 101520, valid_size: 11280, test_size: 18800\n"
          ]
        }
      ]
    },
    {
      "cell_type": "code",
      "source": [
        "f.set_all_seed(42)\n",
        "\n",
        "device = f.get_device()\n",
        "print(device)"
      ],
      "metadata": {
        "colab": {
          "base_uri": "https://localhost:8080/"
        },
        "id": "msUAXbiGOa0f",
        "outputId": "7de85b5a-efb4-4b92-e55c-d7a8359b25fd"
      },
      "execution_count": 5,
      "outputs": [
        {
          "output_type": "stream",
          "name": "stdout",
          "text": [
            "cuda\n"
          ]
        }
      ]
    },
    {
      "cell_type": "code",
      "source": [
        "batch_size = 64\n",
        "\n",
        "train_loader = DataLoader(train_set, batch_size, shuffle=True)\n",
        "valid_loader = DataLoader(valid_set, batch_size, shuffle=False)\n",
        "test_loader = DataLoader(test_set, batch_size, shuffle=False)"
      ],
      "metadata": {
        "id": "Dr_QpxjPO0Gk"
      },
      "execution_count": 6,
      "outputs": []
    },
    {
      "cell_type": "code",
      "source": [
        "check = np.array([])\n",
        "for x, y in test_loader:\n",
        "  check = np.concatenate((check, y), axis=None)\n",
        "\n",
        "print(len(set(check)), min(check), max(check))"
      ],
      "metadata": {
        "id": "xmZHu70ffW23",
        "colab": {
          "base_uri": "https://localhost:8080/"
        },
        "outputId": "5d7dd6e6-12e3-4730-f67c-e1c17f8d8c1a"
      },
      "execution_count": 7,
      "outputs": [
        {
          "output_type": "stream",
          "name": "stdout",
          "text": [
            "47 0.0 46.0\n"
          ]
        }
      ]
    },
    {
      "cell_type": "code",
      "source": [
        "class ConvBlock(nn.Module):\n",
        "  def __init__(self, input_channel, output_channel):\n",
        "    super().__init__()\n",
        "    self.conv = nn.Conv2d(input_channel, output_channel, kernel_size=3, stride=1, padding=1)\n",
        "    self.relu = nn.ReLU()\n",
        "\n",
        "  def forward(self, x):\n",
        "    c = self.conv(x)\n",
        "    r = self.relu(c)\n",
        "\n",
        "    return r"
      ],
      "metadata": {
        "id": "bUvkIb-3PNuv"
      },
      "execution_count": 8,
      "outputs": []
    },
    {
      "cell_type": "code",
      "source": [
        "class ResidualBlock(nn.Module):\n",
        "    def __init__(self, in_dim, out_dim, stride=1) -> None:\n",
        "        super().__init__()\n",
        "\n",
        "        self.conv1 = nn.Sequential(\n",
        "            nn.Conv2d(in_dim, out_dim, kernel_size=3, stride=stride, padding=1),\n",
        "            nn.BatchNorm2d(out_dim),\n",
        "            nn.ReLU()\n",
        "        )\n",
        "\n",
        "        self.conv2 = nn.Sequential(\n",
        "            nn.Conv2d(in_dim, out_dim, kernel_size=3, stride=1, padding=1),\n",
        "            nn.BatchNorm2d(out_dim),\n",
        "        )\n",
        "\n",
        "    def forward(self, x):\n",
        "\n",
        "        residual = x\n",
        "\n",
        "        out = self.conv1(x)\n",
        "        out = self.conv2(out)\n",
        "        out += residual\n",
        "\n",
        "        out = nn.functional.relu(out)\n",
        "\n",
        "        return out"
      ],
      "metadata": {
        "id": "U66PgJvJdrgr"
      },
      "execution_count": 9,
      "outputs": []
    },
    {
      "cell_type": "code",
      "source": [
        "class CNN(nn.Module):\n",
        "  def __init__(self, img_size, input_dim, num_classes, conv_dim, fc_dim):\n",
        "    super().__init__()\n",
        "    self.conv1 = ConvBlock(input_dim, conv_dim)\n",
        "    self.residual = ResidualBlock(conv_dim, conv_dim)\n",
        "    # self.conv2 = ConvBlock(conv_dim, conv_dim)\n",
        "    self.dropout = nn.Dropout(0.25)\n",
        "    self.maxpool = nn.MaxPool2d(2)\n",
        "\n",
        "    conv_out_size = img_size // 2\n",
        "    self.fc1 = nn.Linear(conv_out_size * conv_out_size * conv_dim, fc_dim)\n",
        "    self.fc2 = nn.Linear(fc_dim, num_classes)\n",
        "\n",
        "  def forward(self, x):\n",
        "\n",
        "    x = self.conv1(x)\n",
        "    x = self.maxpool(x)\n",
        "    x = self.residual(x)\n",
        "    x = self.dropout(x)\n",
        "\n",
        "    x = torch.flatten(x, 1)\n",
        "    x = self.fc1(x)\n",
        "    x = nn.functional.relu(x)\n",
        "    x = self.fc2(x)\n",
        "\n",
        "    return x"
      ],
      "metadata": {
        "id": "BxgmPZBNTDK2"
      },
      "execution_count": 10,
      "outputs": []
    },
    {
      "cell_type": "code",
      "source": [
        "img_size = 28\n",
        "fc_dim = 128\n",
        "conv_dim = 64\n",
        "num_classes = 47\n",
        "input_dim = 1"
      ],
      "metadata": {
        "id": "MGKgsdPYXueG"
      },
      "execution_count": 11,
      "outputs": []
    },
    {
      "cell_type": "code",
      "source": [
        "CNN_model = CNN(img_size, input_dim, num_classes, conv_dim, fc_dim)\n",
        "CNN_model.cuda()"
      ],
      "metadata": {
        "colab": {
          "base_uri": "https://localhost:8080/"
        },
        "id": "m03P84SwilcT",
        "outputId": "e0af8c7f-8461-4f1e-a66c-b0a19032dd05"
      },
      "execution_count": 12,
      "outputs": [
        {
          "output_type": "execute_result",
          "data": {
            "text/plain": [
              "CNN(\n",
              "  (conv1): ConvBlock(\n",
              "    (conv): Conv2d(1, 64, kernel_size=(3, 3), stride=(1, 1), padding=(1, 1))\n",
              "    (relu): ReLU()\n",
              "  )\n",
              "  (residual): ResidualBlock(\n",
              "    (conv1): Sequential(\n",
              "      (0): Conv2d(64, 64, kernel_size=(3, 3), stride=(1, 1), padding=(1, 1))\n",
              "      (1): BatchNorm2d(64, eps=1e-05, momentum=0.1, affine=True, track_running_stats=True)\n",
              "      (2): ReLU()\n",
              "    )\n",
              "    (conv2): Sequential(\n",
              "      (0): Conv2d(64, 64, kernel_size=(3, 3), stride=(1, 1), padding=(1, 1))\n",
              "      (1): BatchNorm2d(64, eps=1e-05, momentum=0.1, affine=True, track_running_stats=True)\n",
              "    )\n",
              "  )\n",
              "  (dropout): Dropout(p=0.25, inplace=False)\n",
              "  (maxpool): MaxPool2d(kernel_size=2, stride=2, padding=0, dilation=1, ceil_mode=False)\n",
              "  (fc1): Linear(in_features=12544, out_features=128, bias=True)\n",
              "  (fc2): Linear(in_features=128, out_features=47, bias=True)\n",
              ")"
            ]
          },
          "metadata": {},
          "execution_count": 12
        }
      ]
    },
    {
      "cell_type": "code",
      "source": [
        "loss_fn = nn.CrossEntropyLoss()\n",
        "optimizer = optim.SGD(CNN_model.parameters(), lr=0.01, weight_decay=0.001, momentum=0.9)\n",
        "scheduler = optim.lr_scheduler.MultiStepLR(optimizer, milestones=[10, 20, 30], gamma=0.1)"
      ],
      "metadata": {
        "id": "a2uWTjVgldhm"
      },
      "execution_count": 13,
      "outputs": []
    },
    {
      "cell_type": "code",
      "source": [
        "f.training_loop(n_epochs=30,\n",
        "                model=CNN_model,\n",
        "                train_loader=train_loader,\n",
        "                val_loader=valid_loader,\n",
        "                loss_fn=loss_fn,\n",
        "                optimizer=optimizer,\n",
        "                scheduler=None,\n",
        "                device=device)"
      ],
      "metadata": {
        "id": "IEFBj3-Iksl4"
      },
      "execution_count": null,
      "outputs": []
    },
    {
      "cell_type": "code",
      "source": [
        "CNN_model.eval()\n",
        "CNN_model.cpu()\n",
        "\n",
        "y_pred = []\n",
        "y_true = []\n",
        "\n",
        "with torch.no_grad():\n",
        "  for X, y in test_loader:\n",
        "\n",
        "    y_hat = CNN_model(X)\n",
        "\n",
        "    y_pred.append(y_hat.softmax(dim=1).argmax(dim=1).numpy())\n",
        "    y_true.append(y.numpy())\n",
        "\n",
        "y_pred = np.concatenate(y_pred, axis=None)\n",
        "y_true = np.concatenate(y_true, axis=None)"
      ],
      "metadata": {
        "id": "63POVAvjlykD"
      },
      "execution_count": null,
      "outputs": []
    },
    {
      "cell_type": "code",
      "source": [
        "from sklearn.metrics import classification_report\n",
        "\n",
        "print(classification_report(y_true, y_pred))"
      ],
      "metadata": {
        "id": "9jal3j8Mv0V0"
      },
      "execution_count": null,
      "outputs": []
    }
  ]
}